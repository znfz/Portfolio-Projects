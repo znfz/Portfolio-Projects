{
 "cells": [
  {
   "cell_type": "markdown",
   "id": "544b8c78-f820-44b0-8885-f03e6040d4a1",
   "metadata": {},
   "source": [
    "<center><h3>Introduction</h3></center>\n",
    "\n",
    "Create a 3 layer neural network where an input with two dimensions is used to predict an output. This is simply to understand how the neural network functions. A synthetic dataset will be generated in numpy and the performance of the network modelled using visual representations."
   ]
  },
  {
   "cell_type": "markdown",
   "id": "849013e0-26e1-4de7-a28f-3777b871bea4",
   "metadata": {},
   "source": [
    "**Optimizer: Adam**\n",
    "- Adam optimizer algorithm is a combination of RMSProp and Momentum\n",
    "- Hyperparameters include learning rate, Beta, Epsilon\n",
    "\n",
    "**Loss Function: Mean Absolute Error**\n",
    "- Mean Absolute Error is the loss function"
   ]
  },
  {
   "cell_type": "code",
   "execution_count": 44,
   "id": "93dd1e97-5ec2-4782-b5aa-8a2067790ad1",
   "metadata": {
    "execution": {
     "iopub.execute_input": "2025-08-12T01:56:08.689547Z",
     "iopub.status.busy": "2025-08-12T01:56:08.689181Z",
     "iopub.status.idle": "2025-08-12T01:56:08.716724Z",
     "shell.execute_reply": "2025-08-12T01:56:08.716201Z",
     "shell.execute_reply.started": "2025-08-12T01:56:08.689531Z"
    },
    "tags": []
   },
   "outputs": [
    {
     "name": "stdout",
     "output_type": "stream",
     "text": [
      "Model: \"sequential_1\"\n",
      "_________________________________________________________________\n",
      " Layer (type)                Output Shape              Param #   \n",
      "=================================================================\n",
      " dense_2 (Dense)             (None, 3)                 9         \n",
      "                                                                 \n",
      " dense_3 (Dense)             (None, 1)                 4         \n",
      "                                                                 \n",
      "=================================================================\n",
      "Total params: 13 (52.00 Byte)\n",
      "Trainable params: 13 (52.00 Byte)\n",
      "Non-trainable params: 0 (0.00 Byte)\n",
      "_________________________________________________________________\n"
     ]
    }
   ],
   "source": [
    "import tensorflow as tf\n",
    "from tensorflow.keras.models import Sequential\n",
    "from tensorflow.keras.layers import Dense\n",
    "\n",
    "model = Sequential()\n",
    "\n",
    "# 3 neurons in first hidden layer/ input layer with 2 neurons\n",
    "model.add(Dense(3,activation='relu', input_dim=2))\n",
    "\n",
    "# output layer with 1 neurons\n",
    "model.add(Dense(1))\n",
    "\n",
    "# compile the model by adding the optimizer and the loss fn\n",
    "model.compile(optimizer='adam',loss='mae', metrics=['mae'])\n",
    "\n",
    "model.summary()"
   ]
  },
  {
   "cell_type": "markdown",
   "id": "a95f8184-13da-46dc-b89a-d97eb4645684",
   "metadata": {},
   "source": [
    "**Generate random data to be trained on**"
   ]
  },
  {
   "cell_type": "code",
   "execution_count": 28,
   "id": "aa4d9722-9886-4a97-aea5-184485832feb",
   "metadata": {
    "execution": {
     "iopub.execute_input": "2025-08-11T23:45:33.209635Z",
     "iopub.status.busy": "2025-08-11T23:45:33.209270Z",
     "iopub.status.idle": "2025-08-11T23:45:33.215562Z",
     "shell.execute_reply": "2025-08-11T23:45:33.214851Z",
     "shell.execute_reply.started": "2025-08-11T23:45:33.209617Z"
    },
    "tags": []
   },
   "outputs": [
    {
     "name": "stdout",
     "output_type": "stream",
     "text": [
      "x has samples/features: (10000, 2)\n",
      "y has samples/labels: (10000, 1)\n"
     ]
    }
   ],
   "source": [
    "# Synthetic data \n",
    "import numpy as np\n",
    "np.random.seed(0)\n",
    "x = np.random.rand(10000,2)\n",
    "y = np.random.rand(10000,1)\n",
    "\n",
    "# Split the dataset into training and testing sets\n",
    "from sklearn.model_selection import train_test_split\n",
    "x_train, x_test, y_train, y_test = train_test_split(x, y, test_size=0.2, random_state=42)\n",
    "\n",
    "print('x has samples/features:',x.shape)\n",
    "print('y has samples/labels:',y.shape)"
   ]
  },
  {
   "cell_type": "markdown",
   "id": "25f767ee-791e-4768-98de-496ee376143b",
   "metadata": {},
   "source": [
    "**Fit the model**\n",
    "\n",
    "- Epochs will tell how many time the training data will be used to update the weights and biases\n",
    "- Batch size will decide how much of the training data will be used for each epoch to save on time\n",
    "- Validation Split will ensure 80% of the data is used for training\n"
   ]
  },
  {
   "cell_type": "code",
   "execution_count": 29,
   "id": "047832bb-1922-4028-a4b3-d5a7c2d5896f",
   "metadata": {
    "execution": {
     "iopub.execute_input": "2025-08-11T23:45:50.882480Z",
     "iopub.status.busy": "2025-08-11T23:45:50.882091Z",
     "iopub.status.idle": "2025-08-11T23:45:53.490598Z",
     "shell.execute_reply": "2025-08-11T23:45:53.490044Z",
     "shell.execute_reply.started": "2025-08-11T23:45:50.882462Z"
    },
    "tags": []
   },
   "outputs": [
    {
     "name": "stdout",
     "output_type": "stream",
     "text": [
      "Epoch 1/100\n",
      "7/7 [==============================] - 0s 8ms/step - loss: 0.2505 - mae: 0.2505 - val_loss: 0.2507 - val_mae: 0.2507\n",
      "Epoch 2/100\n",
      "7/7 [==============================] - 0s 4ms/step - loss: 0.2505 - mae: 0.2505 - val_loss: 0.2507 - val_mae: 0.2507\n",
      "Epoch 3/100\n",
      "7/7 [==============================] - 0s 4ms/step - loss: 0.2505 - mae: 0.2505 - val_loss: 0.2507 - val_mae: 0.2507\n",
      "Epoch 4/100\n",
      "7/7 [==============================] - 0s 4ms/step - loss: 0.2505 - mae: 0.2505 - val_loss: 0.2507 - val_mae: 0.2507\n",
      "Epoch 5/100\n",
      "7/7 [==============================] - 0s 4ms/step - loss: 0.2505 - mae: 0.2505 - val_loss: 0.2507 - val_mae: 0.2507\n",
      "Epoch 6/100\n",
      "7/7 [==============================] - 0s 4ms/step - loss: 0.2505 - mae: 0.2505 - val_loss: 0.2507 - val_mae: 0.2507\n",
      "Epoch 7/100\n",
      "7/7 [==============================] - 0s 4ms/step - loss: 0.2505 - mae: 0.2505 - val_loss: 0.2507 - val_mae: 0.2507\n",
      "Epoch 8/100\n",
      "7/7 [==============================] - 0s 4ms/step - loss: 0.2505 - mae: 0.2505 - val_loss: 0.2508 - val_mae: 0.2508\n",
      "Epoch 9/100\n",
      "7/7 [==============================] - 0s 4ms/step - loss: 0.2505 - mae: 0.2505 - val_loss: 0.2508 - val_mae: 0.2508\n",
      "Epoch 10/100\n",
      "7/7 [==============================] - 0s 4ms/step - loss: 0.2505 - mae: 0.2505 - val_loss: 0.2508 - val_mae: 0.2508\n",
      "Epoch 11/100\n",
      "7/7 [==============================] - 0s 4ms/step - loss: 0.2505 - mae: 0.2505 - val_loss: 0.2508 - val_mae: 0.2508\n",
      "Epoch 12/100\n",
      "7/7 [==============================] - 0s 4ms/step - loss: 0.2505 - mae: 0.2505 - val_loss: 0.2508 - val_mae: 0.2508\n",
      "Epoch 13/100\n",
      "7/7 [==============================] - 0s 4ms/step - loss: 0.2505 - mae: 0.2505 - val_loss: 0.2508 - val_mae: 0.2508\n",
      "Epoch 14/100\n",
      "7/7 [==============================] - 0s 4ms/step - loss: 0.2505 - mae: 0.2505 - val_loss: 0.2508 - val_mae: 0.2508\n",
      "Epoch 15/100\n",
      "7/7 [==============================] - 0s 4ms/step - loss: 0.2505 - mae: 0.2505 - val_loss: 0.2508 - val_mae: 0.2508\n",
      "Epoch 16/100\n",
      "7/7 [==============================] - 0s 4ms/step - loss: 0.2505 - mae: 0.2505 - val_loss: 0.2508 - val_mae: 0.2508\n",
      "Epoch 17/100\n",
      "7/7 [==============================] - 0s 4ms/step - loss: 0.2505 - mae: 0.2505 - val_loss: 0.2508 - val_mae: 0.2508\n",
      "Epoch 18/100\n",
      "7/7 [==============================] - 0s 4ms/step - loss: 0.2505 - mae: 0.2505 - val_loss: 0.2508 - val_mae: 0.2508\n",
      "Epoch 19/100\n",
      "7/7 [==============================] - 0s 4ms/step - loss: 0.2505 - mae: 0.2505 - val_loss: 0.2508 - val_mae: 0.2508\n",
      "Epoch 20/100\n",
      "7/7 [==============================] - 0s 4ms/step - loss: 0.2505 - mae: 0.2505 - val_loss: 0.2508 - val_mae: 0.2508\n",
      "Epoch 21/100\n",
      "7/7 [==============================] - 0s 4ms/step - loss: 0.2505 - mae: 0.2505 - val_loss: 0.2508 - val_mae: 0.2508\n",
      "Epoch 22/100\n",
      "7/7 [==============================] - 0s 4ms/step - loss: 0.2505 - mae: 0.2505 - val_loss: 0.2508 - val_mae: 0.2508\n",
      "Epoch 23/100\n",
      "7/7 [==============================] - 0s 4ms/step - loss: 0.2505 - mae: 0.2505 - val_loss: 0.2508 - val_mae: 0.2508\n",
      "Epoch 24/100\n",
      "7/7 [==============================] - 0s 4ms/step - loss: 0.2505 - mae: 0.2505 - val_loss: 0.2508 - val_mae: 0.2508\n",
      "Epoch 25/100\n",
      "7/7 [==============================] - 0s 4ms/step - loss: 0.2505 - mae: 0.2505 - val_loss: 0.2508 - val_mae: 0.2508\n",
      "Epoch 26/100\n",
      "7/7 [==============================] - 0s 4ms/step - loss: 0.2505 - mae: 0.2505 - val_loss: 0.2508 - val_mae: 0.2508\n",
      "Epoch 27/100\n",
      "7/7 [==============================] - 0s 4ms/step - loss: 0.2505 - mae: 0.2505 - val_loss: 0.2508 - val_mae: 0.2508\n",
      "Epoch 28/100\n",
      "7/7 [==============================] - 0s 4ms/step - loss: 0.2505 - mae: 0.2505 - val_loss: 0.2508 - val_mae: 0.2508\n",
      "Epoch 29/100\n",
      "7/7 [==============================] - 0s 4ms/step - loss: 0.2505 - mae: 0.2505 - val_loss: 0.2508 - val_mae: 0.2508\n",
      "Epoch 30/100\n",
      "7/7 [==============================] - 0s 4ms/step - loss: 0.2505 - mae: 0.2505 - val_loss: 0.2508 - val_mae: 0.2508\n",
      "Epoch 31/100\n",
      "7/7 [==============================] - 0s 4ms/step - loss: 0.2505 - mae: 0.2505 - val_loss: 0.2508 - val_mae: 0.2508\n",
      "Epoch 32/100\n",
      "7/7 [==============================] - 0s 4ms/step - loss: 0.2505 - mae: 0.2505 - val_loss: 0.2509 - val_mae: 0.2509\n",
      "Epoch 33/100\n",
      "7/7 [==============================] - 0s 4ms/step - loss: 0.2505 - mae: 0.2505 - val_loss: 0.2509 - val_mae: 0.2509\n",
      "Epoch 34/100\n",
      "7/7 [==============================] - 0s 4ms/step - loss: 0.2505 - mae: 0.2505 - val_loss: 0.2509 - val_mae: 0.2509\n",
      "Epoch 35/100\n",
      "7/7 [==============================] - 0s 4ms/step - loss: 0.2505 - mae: 0.2505 - val_loss: 0.2509 - val_mae: 0.2509\n",
      "Epoch 36/100\n",
      "7/7 [==============================] - 0s 4ms/step - loss: 0.2505 - mae: 0.2505 - val_loss: 0.2509 - val_mae: 0.2509\n",
      "Epoch 37/100\n",
      "7/7 [==============================] - 0s 4ms/step - loss: 0.2505 - mae: 0.2505 - val_loss: 0.2509 - val_mae: 0.2509\n",
      "Epoch 38/100\n",
      "7/7 [==============================] - 0s 4ms/step - loss: 0.2505 - mae: 0.2505 - val_loss: 0.2509 - val_mae: 0.2509\n",
      "Epoch 39/100\n",
      "7/7 [==============================] - 0s 4ms/step - loss: 0.2505 - mae: 0.2505 - val_loss: 0.2509 - val_mae: 0.2509\n",
      "Epoch 40/100\n",
      "7/7 [==============================] - 0s 4ms/step - loss: 0.2505 - mae: 0.2505 - val_loss: 0.2509 - val_mae: 0.2509\n",
      "Epoch 41/100\n",
      "7/7 [==============================] - 0s 4ms/step - loss: 0.2505 - mae: 0.2505 - val_loss: 0.2509 - val_mae: 0.2509\n",
      "Epoch 42/100\n",
      "7/7 [==============================] - 0s 4ms/step - loss: 0.2505 - mae: 0.2505 - val_loss: 0.2509 - val_mae: 0.2509\n",
      "Epoch 43/100\n",
      "7/7 [==============================] - 0s 4ms/step - loss: 0.2505 - mae: 0.2505 - val_loss: 0.2509 - val_mae: 0.2509\n",
      "Epoch 44/100\n",
      "7/7 [==============================] - 0s 4ms/step - loss: 0.2505 - mae: 0.2505 - val_loss: 0.2509 - val_mae: 0.2509\n",
      "Epoch 45/100\n",
      "7/7 [==============================] - 0s 4ms/step - loss: 0.2505 - mae: 0.2505 - val_loss: 0.2508 - val_mae: 0.2508\n",
      "Epoch 46/100\n",
      "7/7 [==============================] - 0s 4ms/step - loss: 0.2505 - mae: 0.2505 - val_loss: 0.2508 - val_mae: 0.2508\n",
      "Epoch 47/100\n",
      "7/7 [==============================] - 0s 4ms/step - loss: 0.2505 - mae: 0.2505 - val_loss: 0.2508 - val_mae: 0.2508\n",
      "Epoch 48/100\n",
      "7/7 [==============================] - 0s 4ms/step - loss: 0.2505 - mae: 0.2505 - val_loss: 0.2508 - val_mae: 0.2508\n",
      "Epoch 49/100\n",
      "7/7 [==============================] - 0s 4ms/step - loss: 0.2505 - mae: 0.2505 - val_loss: 0.2508 - val_mae: 0.2508\n",
      "Epoch 50/100\n",
      "7/7 [==============================] - 0s 4ms/step - loss: 0.2505 - mae: 0.2505 - val_loss: 0.2509 - val_mae: 0.2509\n",
      "Epoch 51/100\n",
      "7/7 [==============================] - 0s 4ms/step - loss: 0.2505 - mae: 0.2505 - val_loss: 0.2509 - val_mae: 0.2509\n",
      "Epoch 52/100\n",
      "7/7 [==============================] - 0s 4ms/step - loss: 0.2505 - mae: 0.2505 - val_loss: 0.2509 - val_mae: 0.2509\n",
      "Epoch 53/100\n",
      "7/7 [==============================] - 0s 4ms/step - loss: 0.2505 - mae: 0.2505 - val_loss: 0.2509 - val_mae: 0.2509\n",
      "Epoch 54/100\n",
      "7/7 [==============================] - 0s 4ms/step - loss: 0.2505 - mae: 0.2505 - val_loss: 0.2509 - val_mae: 0.2509\n",
      "Epoch 55/100\n",
      "7/7 [==============================] - 0s 4ms/step - loss: 0.2505 - mae: 0.2505 - val_loss: 0.2509 - val_mae: 0.2509\n",
      "Epoch 56/100\n",
      "7/7 [==============================] - 0s 4ms/step - loss: 0.2505 - mae: 0.2505 - val_loss: 0.2509 - val_mae: 0.2509\n",
      "Epoch 57/100\n",
      "7/7 [==============================] - 0s 4ms/step - loss: 0.2505 - mae: 0.2505 - val_loss: 0.2509 - val_mae: 0.2509\n",
      "Epoch 58/100\n",
      "7/7 [==============================] - 0s 4ms/step - loss: 0.2505 - mae: 0.2505 - val_loss: 0.2509 - val_mae: 0.2509\n",
      "Epoch 59/100\n",
      "7/7 [==============================] - 0s 4ms/step - loss: 0.2505 - mae: 0.2505 - val_loss: 0.2509 - val_mae: 0.2509\n",
      "Epoch 60/100\n",
      "7/7 [==============================] - 0s 4ms/step - loss: 0.2505 - mae: 0.2505 - val_loss: 0.2509 - val_mae: 0.2509\n",
      "Epoch 61/100\n",
      "7/7 [==============================] - 0s 4ms/step - loss: 0.2505 - mae: 0.2505 - val_loss: 0.2509 - val_mae: 0.2509\n",
      "Epoch 62/100\n",
      "7/7 [==============================] - 0s 4ms/step - loss: 0.2505 - mae: 0.2505 - val_loss: 0.2509 - val_mae: 0.2509\n",
      "Epoch 63/100\n",
      "7/7 [==============================] - 0s 4ms/step - loss: 0.2505 - mae: 0.2505 - val_loss: 0.2509 - val_mae: 0.2509\n",
      "Epoch 64/100\n",
      "7/7 [==============================] - 0s 4ms/step - loss: 0.2505 - mae: 0.2505 - val_loss: 0.2509 - val_mae: 0.2509\n",
      "Epoch 65/100\n",
      "7/7 [==============================] - 0s 4ms/step - loss: 0.2505 - mae: 0.2505 - val_loss: 0.2509 - val_mae: 0.2509\n",
      "Epoch 66/100\n",
      "7/7 [==============================] - 0s 4ms/step - loss: 0.2505 - mae: 0.2505 - val_loss: 0.2509 - val_mae: 0.2509\n",
      "Epoch 67/100\n",
      "7/7 [==============================] - 0s 4ms/step - loss: 0.2505 - mae: 0.2505 - val_loss: 0.2509 - val_mae: 0.2509\n",
      "Epoch 68/100\n",
      "7/7 [==============================] - 0s 4ms/step - loss: 0.2505 - mae: 0.2505 - val_loss: 0.2509 - val_mae: 0.2509\n",
      "Epoch 69/100\n",
      "7/7 [==============================] - 0s 4ms/step - loss: 0.2505 - mae: 0.2505 - val_loss: 0.2509 - val_mae: 0.2509\n",
      "Epoch 70/100\n",
      "7/7 [==============================] - 0s 4ms/step - loss: 0.2505 - mae: 0.2505 - val_loss: 0.2509 - val_mae: 0.2509\n",
      "Epoch 71/100\n",
      "7/7 [==============================] - 0s 4ms/step - loss: 0.2505 - mae: 0.2505 - val_loss: 0.2509 - val_mae: 0.2509\n",
      "Epoch 72/100\n",
      "7/7 [==============================] - 0s 4ms/step - loss: 0.2505 - mae: 0.2505 - val_loss: 0.2509 - val_mae: 0.2509\n",
      "Epoch 73/100\n",
      "7/7 [==============================] - 0s 4ms/step - loss: 0.2505 - mae: 0.2505 - val_loss: 0.2509 - val_mae: 0.2509\n",
      "Epoch 74/100\n",
      "7/7 [==============================] - 0s 4ms/step - loss: 0.2505 - mae: 0.2505 - val_loss: 0.2509 - val_mae: 0.2509\n",
      "Epoch 75/100\n",
      "7/7 [==============================] - 0s 4ms/step - loss: 0.2505 - mae: 0.2505 - val_loss: 0.2509 - val_mae: 0.2509\n",
      "Epoch 76/100\n",
      "7/7 [==============================] - 0s 4ms/step - loss: 0.2505 - mae: 0.2505 - val_loss: 0.2509 - val_mae: 0.2509\n",
      "Epoch 77/100\n",
      "7/7 [==============================] - 0s 4ms/step - loss: 0.2505 - mae: 0.2505 - val_loss: 0.2509 - val_mae: 0.2509\n",
      "Epoch 78/100\n",
      "7/7 [==============================] - 0s 4ms/step - loss: 0.2505 - mae: 0.2505 - val_loss: 0.2510 - val_mae: 0.2510\n",
      "Epoch 79/100\n",
      "7/7 [==============================] - 0s 4ms/step - loss: 0.2505 - mae: 0.2505 - val_loss: 0.2510 - val_mae: 0.2510\n",
      "Epoch 80/100\n",
      "7/7 [==============================] - 0s 4ms/step - loss: 0.2505 - mae: 0.2505 - val_loss: 0.2509 - val_mae: 0.2509\n",
      "Epoch 81/100\n",
      "7/7 [==============================] - 0s 4ms/step - loss: 0.2505 - mae: 0.2505 - val_loss: 0.2509 - val_mae: 0.2509\n",
      "Epoch 82/100\n",
      "7/7 [==============================] - 0s 4ms/step - loss: 0.2505 - mae: 0.2505 - val_loss: 0.2509 - val_mae: 0.2509\n",
      "Epoch 83/100\n",
      "7/7 [==============================] - 0s 4ms/step - loss: 0.2505 - mae: 0.2505 - val_loss: 0.2509 - val_mae: 0.2509\n",
      "Epoch 84/100\n",
      "7/7 [==============================] - 0s 4ms/step - loss: 0.2505 - mae: 0.2505 - val_loss: 0.2510 - val_mae: 0.2510\n",
      "Epoch 85/100\n",
      "7/7 [==============================] - 0s 4ms/step - loss: 0.2505 - mae: 0.2505 - val_loss: 0.2510 - val_mae: 0.2510\n",
      "Epoch 86/100\n",
      "7/7 [==============================] - 0s 4ms/step - loss: 0.2505 - mae: 0.2505 - val_loss: 0.2510 - val_mae: 0.2510\n",
      "Epoch 87/100\n",
      "7/7 [==============================] - 0s 4ms/step - loss: 0.2505 - mae: 0.2505 - val_loss: 0.2509 - val_mae: 0.2509\n",
      "Epoch 88/100\n",
      "7/7 [==============================] - 0s 4ms/step - loss: 0.2505 - mae: 0.2505 - val_loss: 0.2509 - val_mae: 0.2509\n",
      "Epoch 89/100\n",
      "7/7 [==============================] - 0s 4ms/step - loss: 0.2505 - mae: 0.2505 - val_loss: 0.2509 - val_mae: 0.2509\n",
      "Epoch 90/100\n",
      "7/7 [==============================] - 0s 4ms/step - loss: 0.2505 - mae: 0.2505 - val_loss: 0.2509 - val_mae: 0.2509\n",
      "Epoch 91/100\n",
      "7/7 [==============================] - 0s 4ms/step - loss: 0.2505 - mae: 0.2505 - val_loss: 0.2509 - val_mae: 0.2509\n",
      "Epoch 92/100\n",
      "7/7 [==============================] - 0s 4ms/step - loss: 0.2505 - mae: 0.2505 - val_loss: 0.2509 - val_mae: 0.2509\n",
      "Epoch 93/100\n",
      "7/7 [==============================] - 0s 4ms/step - loss: 0.2505 - mae: 0.2505 - val_loss: 0.2509 - val_mae: 0.2509\n",
      "Epoch 94/100\n",
      "7/7 [==============================] - 0s 4ms/step - loss: 0.2505 - mae: 0.2505 - val_loss: 0.2509 - val_mae: 0.2509\n",
      "Epoch 95/100\n",
      "7/7 [==============================] - 0s 4ms/step - loss: 0.2505 - mae: 0.2505 - val_loss: 0.2509 - val_mae: 0.2509\n",
      "Epoch 96/100\n",
      "7/7 [==============================] - 0s 4ms/step - loss: 0.2505 - mae: 0.2505 - val_loss: 0.2509 - val_mae: 0.2509\n",
      "Epoch 97/100\n",
      "7/7 [==============================] - 0s 7ms/step - loss: 0.2505 - mae: 0.2505 - val_loss: 0.2509 - val_mae: 0.2509\n",
      "Epoch 98/100\n",
      "7/7 [==============================] - 0s 4ms/step - loss: 0.2505 - mae: 0.2505 - val_loss: 0.2509 - val_mae: 0.2509\n",
      "Epoch 99/100\n",
      "7/7 [==============================] - 0s 4ms/step - loss: 0.2505 - mae: 0.2505 - val_loss: 0.2509 - val_mae: 0.2509\n",
      "Epoch 100/100\n",
      "7/7 [==============================] - 0s 4ms/step - loss: 0.2505 - mae: 0.2505 - val_loss: 0.2509 - val_mae: 0.2509\n"
     ]
    }
   ],
   "source": [
    "history = model.fit(x_train,y_train, epochs=100, batch_size = 1000, validation_split = 0.2)"
   ]
  },
  {
   "cell_type": "markdown",
   "id": "27da97a0-3c0a-4d25-8cf9-79108cd3357d",
   "metadata": {},
   "source": [
    "**Plot the training loss and the validation loss against the epoch counts**\n",
    "\n",
    "- Epochs will tell how many time the training data will be used to update the weights and biases\n",
    "- Batch size will decide how much of the training data will be used for each epoch to save on time\n",
    "- Validation Split will ensure 80% of the data is used for training\n",
    "\n",
    "Observations\n",
    "\n",
    "- Loss/Mean Absolute Error gives the loss value after each epoch. \n",
    "- Validation Loss/Validation Mean Absolute Error gives the loss on the validation data after each data\n",
    "\n",
    "Notes\n",
    "- If the loss is lowering for the training set but increasing for the validation set, that is a sign of overfitting"
   ]
  },
  {
   "cell_type": "code",
   "execution_count": 30,
   "id": "c7ae430a-45f4-4611-8d63-bc855cf79b23",
   "metadata": {
    "execution": {
     "iopub.execute_input": "2025-08-11T23:45:56.321301Z",
     "iopub.status.busy": "2025-08-11T23:45:56.320912Z",
     "iopub.status.idle": "2025-08-11T23:45:56.444228Z",
     "shell.execute_reply": "2025-08-11T23:45:56.443707Z",
     "shell.execute_reply.started": "2025-08-11T23:45:56.321284Z"
    },
    "tags": []
   },
   "outputs": [
    {
     "data": {
      "image/png": "[encoded data removed]",
      "text/plain": [
       "<Figure size 432x288 with 1 Axes>"
      ]
     },
     "metadata": {
      "needs_background": "light"
     },
     "output_type": "display_data"
    }
   ],
   "source": [
    "import matplotlib.pyplot as plt\n",
    "\n",
    "# Extract the loss and validation loss\n",
    "loss = history.history['loss']\n",
    "val_loss = history.history['val_loss']\n",
    "\n",
    "# Plot the training and validation loss\n",
    "plt.plot(loss, label='Training Loss')\n",
    "plt.plot(val_loss, label='Validation Loss')\n",
    "\n",
    "plt.xlabel('Epochs')\n",
    "plt.ylabel('Loss')\n",
    "plt.title('Loss vs. Epochs')\n",
    "plt.legend()\n",
    "plt.show()"
   ]
  },
  {
   "cell_type": "markdown",
   "id": "8e6a1338-85c2-4cbd-86d9-6272af54b699",
   "metadata": {},
   "source": [
    "**Plot the testing loss against the epoch counts**\n"
   ]
  },
  {
   "cell_type": "code",
   "execution_count": 31,
   "id": "b959f803-4866-461a-a86e-8726b018fc79",
   "metadata": {
    "execution": {
     "iopub.execute_input": "2025-08-11T23:48:23.790585Z",
     "iopub.status.busy": "2025-08-11T23:48:23.790198Z",
     "iopub.status.idle": "2025-08-11T23:48:23.992722Z",
     "shell.execute_reply": "2025-08-11T23:48:23.992158Z",
     "shell.execute_reply.started": "2025-08-11T23:48:23.790568Z"
    }
   },
   "outputs": [
    {
     "name": "stdout",
     "output_type": "stream",
     "text": [
      "63/63 [==============================] - 0s 395us/step\n",
      "63/63 [==============================] - 0s 439us/step - loss: 0.2488 - mae: 0.2488\n",
      "Test Loss: 0.24881511926651, Test MAE: 0.24881511926651\n"
     ]
    }
   ],
   "source": [
    "predictions = model.predict(x_test)\n",
    "\n",
    "#Evaluate the model on the testing set\n",
    "test_loss, test_mae = model.evaluate(x_test, y_test)\n",
    "print(f\"Test Loss: {test_loss}, Test MAE: {test_mae}\")"
   ]
  },
  {
   "cell_type": "code",
   "execution_count": 43,
   "id": "f71b6f90-ad10-48ff-b79b-ba83fca4a489",
   "metadata": {
    "execution": {
     "iopub.execute_input": "2025-08-11T23:51:37.790018Z",
     "iopub.status.busy": "2025-08-11T23:51:37.789671Z",
     "iopub.status.idle": "2025-08-11T23:51:37.906079Z",
     "shell.execute_reply": "2025-08-11T23:51:37.905602Z",
     "shell.execute_reply.started": "2025-08-11T23:51:37.790002Z"
    },
    "tags": []
   },
   "outputs": [
    {
     "name": "stderr",
     "output_type": "stream",
     "text": [
      "No artists with labels found to put in legend.  Note that artists whose label start with an underscore are ignored when legend() is called with no argument.\n"
     ]
    },
    {
     "data": {
      "image/png": "[encoded data removed]",
      "text/plain": [
       "<Figure size 432x288 with 1 Axes>"
      ]
     },
     "metadata": {
      "needs_background": "light"
     },
     "output_type": "display_data"
    }
   ],
   "source": [
    "plt.scatter(y_test, predictions)\n",
    "# Add a reference line (ideal predictions line)\n",
    "plt.xlabel(\"Actual Values\")\n",
    "plt.ylabel(\"Predicted Values\")\n",
    "plt.title(\"Predicted vs Actual Values\")\n",
    "plt.legend()\n",
    "\n",
    "plt.show()"
   ]
  },
  {
   "cell_type": "markdown",
   "id": "17ab1bec-6016-4c58-9d67-7ba9e864ff09",
   "metadata": {},
   "source": [
    "Once visually assessed, the predicted values for the y-test do not properly align with the actual values. For the moment, this demonstrates a simple neural network to be modelled."
   ]
  }
 ],
 "metadata": {
  "kernelspec": {
   "display_name": "Python 3.8.x",
   "language": "python",
   "name": "python_3.8.x"
  },
  "language_info": {
   "codemirror_mode": {
    "name": "ipython",
    "version": 3
   },
   "file_extension": ".py",
   "mimetype": "text/x-python",
   "name": "python",
   "nbconvert_exporter": "python",
   "pygments_lexer": "ipython3",
   "version": "3.8.4"
  }
 },
 "nbformat": 4,
 "nbformat_minor": 5
}
