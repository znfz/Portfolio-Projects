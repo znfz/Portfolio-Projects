{
 "cells": [
  {
   "cell_type": "markdown",
   "id": "544b8c78-f820-44b0-8885-f03e6040d4a1",
   "metadata": {},
   "source": [
    "<center><h3>Introduction</h3></center>\n",
    "\n",
    "Create a 3 layer neural network where an input with two dimensions is used to predict an output. This is simply to understand how the neural network functions. A synthetic dataset will be generated in numpy and the performance of the network modelled using visual representations."
   ]
  },
  {
   "cell_type": "markdown",
   "id": "849013e0-26e1-4de7-a28f-3777b871bea4",
   "metadata": {},
   "source": [
    "**Optimizer: Adam**\n",
    "- Adam optimizer algorithm is a combination of RMSProp and Momentum\n",
    "- Hyperparameters include learning rate, Beta, Epsilon\n",
    "\n",
    "**Loss Function: Mean Absolute Error**\n",
    "- Mean Absolute Error is the loss function"
   ]
  },
  {
   "cell_type": "code",
   "execution_count": 8,
   "id": "93dd1e97-5ec2-4782-b5aa-8a2067790ad1",
   "metadata": {
    "execution": {
     "iopub.execute_input": "2025-08-17T15:58:33.722894Z",
     "iopub.status.busy": "2025-08-17T15:58:33.722494Z",
     "iopub.status.idle": "2025-08-17T15:58:33.753894Z",
     "shell.execute_reply": "2025-08-17T15:58:33.753317Z",
     "shell.execute_reply.started": "2025-08-17T15:58:33.722876Z"
    },
    "tags": []
   },
   "outputs": [
    {
     "name": "stdout",
     "output_type": "stream",
     "text": [
      "Model: \"sequential_2\"\n",
      "_________________________________________________________________\n",
      " Layer (type)                Output Shape              Param #   \n",
      "=================================================================\n",
      " dense_4 (Dense)             (None, 3)                 9         \n",
      "                                                                 \n",
      " dense_5 (Dense)             (None, 1)                 4         \n",
      "                                                                 \n",
      "=================================================================\n",
      "Total params: 13 (52.00 Byte)\n",
      "Trainable params: 13 (52.00 Byte)\n",
      "Non-trainable params: 0 (0.00 Byte)\n",
      "_________________________________________________________________\n"
     ]
    }
   ],
   "source": [
    "import tensorflow as tf\n",
    "from tensorflow.keras.models import Sequential\n",
    "from tensorflow.keras.layers import Dense\n",
    "\n",
    "model = Sequential()\n",
    "\n",
    "# 3 neurons in first hidden layer/ input layer with 2 neurons\n",
    "model.add(Dense(3,activation='relu', input_dim=2))\n",
    "\n",
    "# output layer with 1 neurons\n",
    "model.add(Dense(1))\n",
    "\n",
    "# compile the model by adding the optimizer and the loss fn\n",
    "model.compile(optimizer='adam',loss='mae', metrics=['mae'])\n",
    "\n",
    "model.summary()"
   ]
  },
  {
   "cell_type": "markdown",
   "id": "a95f8184-13da-46dc-b89a-d97eb4645684",
   "metadata": {},
   "source": [
    "**Generate random data to be trained on**"
   ]
  },
  {
   "cell_type": "code",
   "execution_count": 9,
   "id": "aa4d9722-9886-4a97-aea5-184485832feb",
   "metadata": {
    "execution": {
     "iopub.execute_input": "2025-08-17T15:58:36.505494Z",
     "iopub.status.busy": "2025-08-17T15:58:36.505084Z",
     "iopub.status.idle": "2025-08-17T15:58:36.510600Z",
     "shell.execute_reply": "2025-08-17T15:58:36.510116Z",
     "shell.execute_reply.started": "2025-08-17T15:58:36.505475Z"
    },
    "tags": []
   },
   "outputs": [
    {
     "name": "stdout",
     "output_type": "stream",
     "text": [
      "x has samples/features: (10000, 2)\n",
      "y has samples/labels: (10000, 1)\n"
     ]
    }
   ],
   "source": [
    "# Synthetic data \n",
    "import numpy as np\n",
    "np.random.seed(0)\n",
    "x = np.random.rand(10000,2)\n",
    "y = np.random.rand(10000,1)\n",
    "\n",
    "# Split the dataset into training and testing sets\n",
    "from sklearn.model_selection import train_test_split\n",
    "x_train, x_test, y_train, y_test = train_test_split(x, y, test_size=0.2, random_state=42)\n",
    "\n",
    "print('x has samples/features:',x.shape)\n",
    "print('y has samples/labels:',y.shape)"
   ]
  },
  {
   "cell_type": "markdown",
   "id": "25f767ee-791e-4768-98de-496ee376143b",
   "metadata": {},
   "source": [
    "**Fit the model**\n",
    "\n",
    "- Epochs will tell how many time the training data will be used to update the weights and biases\n",
    "- Batch size will decide how much of the training data will be used for each epoch to save on time\n",
    "- Validation Split will ensure 80% of the data is used for training\n"
   ]
  },
  {
   "cell_type": "code",
   "execution_count": 10,
   "id": "047832bb-1922-4028-a4b3-d5a7c2d5896f",
   "metadata": {
    "execution": {
     "iopub.execute_input": "2025-08-17T15:58:38.736219Z",
     "iopub.status.busy": "2025-08-17T15:58:38.735849Z",
     "iopub.status.idle": "2025-08-17T15:58:41.441755Z",
     "shell.execute_reply": "2025-08-17T15:58:41.441222Z",
     "shell.execute_reply.started": "2025-08-17T15:58:38.736201Z"
    },
    "tags": []
   },
   "outputs": [
    {
     "name": "stdout",
     "output_type": "stream",
     "text": [
      "Epoch 1/100\n",
      "7/7 [==============================] - 0s 16ms/step - loss: 0.4619 - mae: 0.4619 - val_loss: 0.4487 - val_mae: 0.4487\n",
      "Epoch 2/100\n",
      "7/7 [==============================] - 0s 4ms/step - loss: 0.4520 - mae: 0.4520 - val_loss: 0.4390 - val_mae: 0.4390\n",
      "Epoch 3/100\n",
      "7/7 [==============================] - 0s 4ms/step - loss: 0.4419 - mae: 0.4419 - val_loss: 0.4294 - val_mae: 0.4294\n",
      "Epoch 4/100\n",
      "7/7 [==============================] - 0s 4ms/step - loss: 0.4319 - mae: 0.4319 - val_loss: 0.4200 - val_mae: 0.4200\n",
      "Epoch 5/100\n",
      "7/7 [==============================] - 0s 4ms/step - loss: 0.4219 - mae: 0.4219 - val_loss: 0.4105 - val_mae: 0.4105\n",
      "Epoch 6/100\n",
      "7/7 [==============================] - 0s 4ms/step - loss: 0.4117 - mae: 0.4117 - val_loss: 0.4011 - val_mae: 0.4011\n",
      "Epoch 7/100\n",
      "7/7 [==============================] - 0s 3ms/step - loss: 0.4018 - mae: 0.4018 - val_loss: 0.3920 - val_mae: 0.3920\n",
      "Epoch 8/100\n",
      "7/7 [==============================] - 0s 4ms/step - loss: 0.3920 - mae: 0.3920 - val_loss: 0.3831 - val_mae: 0.3831\n",
      "Epoch 9/100\n",
      "7/7 [==============================] - 0s 4ms/step - loss: 0.3824 - mae: 0.3824 - val_loss: 0.3741 - val_mae: 0.3741\n",
      "Epoch 10/100\n",
      "7/7 [==============================] - 0s 4ms/step - loss: 0.3727 - mae: 0.3727 - val_loss: 0.3653 - val_mae: 0.3653\n",
      "Epoch 11/100\n",
      "7/7 [==============================] - 0s 4ms/step - loss: 0.3632 - mae: 0.3632 - val_loss: 0.3567 - val_mae: 0.3567\n",
      "Epoch 12/100\n",
      "7/7 [==============================] - 0s 4ms/step - loss: 0.3538 - mae: 0.3538 - val_loss: 0.3481 - val_mae: 0.3481\n",
      "Epoch 13/100\n",
      "7/7 [==============================] - 0s 4ms/step - loss: 0.3446 - mae: 0.3446 - val_loss: 0.3396 - val_mae: 0.3396\n",
      "Epoch 14/100\n",
      "7/7 [==============================] - 0s 4ms/step - loss: 0.3358 - mae: 0.3358 - val_loss: 0.3313 - val_mae: 0.3313\n",
      "Epoch 15/100\n",
      "7/7 [==============================] - 0s 3ms/step - loss: 0.3275 - mae: 0.3275 - val_loss: 0.3232 - val_mae: 0.3232\n",
      "Epoch 16/100\n",
      "7/7 [==============================] - 0s 3ms/step - loss: 0.3194 - mae: 0.3194 - val_loss: 0.3156 - val_mae: 0.3156\n",
      "Epoch 17/100\n",
      "7/7 [==============================] - 0s 3ms/step - loss: 0.3120 - mae: 0.3120 - val_loss: 0.3082 - val_mae: 0.3082\n",
      "Epoch 18/100\n",
      "7/7 [==============================] - 0s 3ms/step - loss: 0.3051 - mae: 0.3051 - val_loss: 0.3013 - val_mae: 0.3013\n",
      "Epoch 19/100\n",
      "7/7 [==============================] - 0s 4ms/step - loss: 0.2985 - mae: 0.2985 - val_loss: 0.2951 - val_mae: 0.2951\n",
      "Epoch 20/100\n",
      "7/7 [==============================] - 0s 4ms/step - loss: 0.2926 - mae: 0.2926 - val_loss: 0.2896 - val_mae: 0.2896\n",
      "Epoch 21/100\n",
      "7/7 [==============================] - 0s 4ms/step - loss: 0.2870 - mae: 0.2870 - val_loss: 0.2849 - val_mae: 0.2849\n",
      "Epoch 22/100\n",
      "7/7 [==============================] - 0s 4ms/step - loss: 0.2821 - mae: 0.2821 - val_loss: 0.2806 - val_mae: 0.2806\n",
      "Epoch 23/100\n",
      "7/7 [==============================] - 0s 4ms/step - loss: 0.2774 - mae: 0.2774 - val_loss: 0.2770 - val_mae: 0.2770\n",
      "Epoch 24/100\n",
      "7/7 [==============================] - 0s 4ms/step - loss: 0.2733 - mae: 0.2733 - val_loss: 0.2738 - val_mae: 0.2738\n",
      "Epoch 25/100\n",
      "7/7 [==============================] - 0s 4ms/step - loss: 0.2696 - mae: 0.2696 - val_loss: 0.2710 - val_mae: 0.2710\n",
      "Epoch 26/100\n",
      "7/7 [==============================] - 0s 4ms/step - loss: 0.2668 - mae: 0.2668 - val_loss: 0.2689 - val_mae: 0.2689\n",
      "Epoch 27/100\n",
      "7/7 [==============================] - 0s 4ms/step - loss: 0.2644 - mae: 0.2644 - val_loss: 0.2676 - val_mae: 0.2676\n",
      "Epoch 28/100\n",
      "7/7 [==============================] - 0s 3ms/step - loss: 0.2627 - mae: 0.2627 - val_loss: 0.2667 - val_mae: 0.2667\n",
      "Epoch 29/100\n",
      "7/7 [==============================] - 0s 4ms/step - loss: 0.2616 - mae: 0.2616 - val_loss: 0.2662 - val_mae: 0.2662\n",
      "Epoch 30/100\n",
      "7/7 [==============================] - 0s 4ms/step - loss: 0.2608 - mae: 0.2608 - val_loss: 0.2658 - val_mae: 0.2658\n",
      "Epoch 31/100\n",
      "7/7 [==============================] - 0s 4ms/step - loss: 0.2602 - mae: 0.2602 - val_loss: 0.2654 - val_mae: 0.2654\n",
      "Epoch 32/100\n",
      "7/7 [==============================] - 0s 4ms/step - loss: 0.2597 - mae: 0.2597 - val_loss: 0.2650 - val_mae: 0.2650\n",
      "Epoch 33/100\n",
      "7/7 [==============================] - 0s 4ms/step - loss: 0.2593 - mae: 0.2593 - val_loss: 0.2645 - val_mae: 0.2645\n",
      "Epoch 34/100\n",
      "7/7 [==============================] - 0s 4ms/step - loss: 0.2589 - mae: 0.2589 - val_loss: 0.2640 - val_mae: 0.2640\n",
      "Epoch 35/100\n",
      "7/7 [==============================] - 0s 4ms/step - loss: 0.2585 - mae: 0.2585 - val_loss: 0.2635 - val_mae: 0.2635\n",
      "Epoch 36/100\n",
      "7/7 [==============================] - 0s 3ms/step - loss: 0.2582 - mae: 0.2582 - val_loss: 0.2631 - val_mae: 0.2631\n",
      "Epoch 37/100\n",
      "7/7 [==============================] - 0s 3ms/step - loss: 0.2578 - mae: 0.2578 - val_loss: 0.2627 - val_mae: 0.2627\n",
      "Epoch 38/100\n",
      "7/7 [==============================] - 0s 3ms/step - loss: 0.2575 - mae: 0.2575 - val_loss: 0.2623 - val_mae: 0.2623\n",
      "Epoch 39/100\n",
      "7/7 [==============================] - 0s 3ms/step - loss: 0.2572 - mae: 0.2572 - val_loss: 0.2619 - val_mae: 0.2619\n",
      "Epoch 40/100\n",
      "7/7 [==============================] - 0s 3ms/step - loss: 0.2569 - mae: 0.2569 - val_loss: 0.2616 - val_mae: 0.2616\n",
      "Epoch 41/100\n",
      "7/7 [==============================] - 0s 4ms/step - loss: 0.2566 - mae: 0.2566 - val_loss: 0.2612 - val_mae: 0.2612\n",
      "Epoch 42/100\n",
      "7/7 [==============================] - 0s 4ms/step - loss: 0.2563 - mae: 0.2563 - val_loss: 0.2609 - val_mae: 0.2609\n",
      "Epoch 43/100\n",
      "7/7 [==============================] - 0s 4ms/step - loss: 0.2561 - mae: 0.2561 - val_loss: 0.2606 - val_mae: 0.2606\n",
      "Epoch 44/100\n",
      "7/7 [==============================] - 0s 3ms/step - loss: 0.2558 - mae: 0.2558 - val_loss: 0.2603 - val_mae: 0.2603\n",
      "Epoch 45/100\n",
      "7/7 [==============================] - 0s 4ms/step - loss: 0.2556 - mae: 0.2556 - val_loss: 0.2601 - val_mae: 0.2601\n",
      "Epoch 46/100\n",
      "7/7 [==============================] - 0s 3ms/step - loss: 0.2554 - mae: 0.2554 - val_loss: 0.2598 - val_mae: 0.2598\n",
      "Epoch 47/100\n",
      "7/7 [==============================] - 0s 3ms/step - loss: 0.2552 - mae: 0.2552 - val_loss: 0.2596 - val_mae: 0.2596\n",
      "Epoch 48/100\n",
      "7/7 [==============================] - 0s 4ms/step - loss: 0.2550 - mae: 0.2550 - val_loss: 0.2593 - val_mae: 0.2593\n",
      "Epoch 49/100\n",
      "7/7 [==============================] - 0s 4ms/step - loss: 0.2548 - mae: 0.2548 - val_loss: 0.2591 - val_mae: 0.2591\n",
      "Epoch 50/100\n",
      "7/7 [==============================] - 0s 3ms/step - loss: 0.2546 - mae: 0.2546 - val_loss: 0.2589 - val_mae: 0.2589\n",
      "Epoch 51/100\n",
      "7/7 [==============================] - 0s 4ms/step - loss: 0.2544 - mae: 0.2544 - val_loss: 0.2587 - val_mae: 0.2587\n",
      "Epoch 52/100\n",
      "7/7 [==============================] - 0s 3ms/step - loss: 0.2543 - mae: 0.2543 - val_loss: 0.2585 - val_mae: 0.2585\n",
      "Epoch 53/100\n",
      "7/7 [==============================] - 0s 3ms/step - loss: 0.2542 - mae: 0.2542 - val_loss: 0.2583 - val_mae: 0.2583\n",
      "Epoch 54/100\n",
      "7/7 [==============================] - 0s 3ms/step - loss: 0.2540 - mae: 0.2540 - val_loss: 0.2581 - val_mae: 0.2581\n",
      "Epoch 55/100\n",
      "7/7 [==============================] - 0s 3ms/step - loss: 0.2539 - mae: 0.2539 - val_loss: 0.2579 - val_mae: 0.2579\n",
      "Epoch 56/100\n",
      "7/7 [==============================] - 0s 4ms/step - loss: 0.2538 - mae: 0.2538 - val_loss: 0.2577 - val_mae: 0.2577\n",
      "Epoch 57/100\n",
      "7/7 [==============================] - 0s 3ms/step - loss: 0.2537 - mae: 0.2537 - val_loss: 0.2575 - val_mae: 0.2575\n",
      "Epoch 58/100\n",
      "7/7 [==============================] - 0s 3ms/step - loss: 0.2536 - mae: 0.2536 - val_loss: 0.2574 - val_mae: 0.2574\n",
      "Epoch 59/100\n",
      "7/7 [==============================] - 0s 3ms/step - loss: 0.2535 - mae: 0.2535 - val_loss: 0.2572 - val_mae: 0.2572\n",
      "Epoch 60/100\n",
      "7/7 [==============================] - 0s 4ms/step - loss: 0.2534 - mae: 0.2534 - val_loss: 0.2571 - val_mae: 0.2571\n",
      "Epoch 61/100\n",
      "7/7 [==============================] - 0s 4ms/step - loss: 0.2533 - mae: 0.2533 - val_loss: 0.2569 - val_mae: 0.2569\n",
      "Epoch 62/100\n",
      "7/7 [==============================] - 0s 4ms/step - loss: 0.2532 - mae: 0.2532 - val_loss: 0.2568 - val_mae: 0.2568\n",
      "Epoch 63/100\n",
      "7/7 [==============================] - 0s 4ms/step - loss: 0.2532 - mae: 0.2532 - val_loss: 0.2567 - val_mae: 0.2567\n",
      "Epoch 64/100\n",
      "7/7 [==============================] - 0s 3ms/step - loss: 0.2531 - mae: 0.2531 - val_loss: 0.2566 - val_mae: 0.2566\n",
      "Epoch 65/100\n",
      "7/7 [==============================] - 0s 3ms/step - loss: 0.2530 - mae: 0.2530 - val_loss: 0.2565 - val_mae: 0.2565\n",
      "Epoch 66/100\n",
      "7/7 [==============================] - 0s 4ms/step - loss: 0.2530 - mae: 0.2530 - val_loss: 0.2564 - val_mae: 0.2564\n",
      "Epoch 67/100\n",
      "7/7 [==============================] - 0s 3ms/step - loss: 0.2529 - mae: 0.2529 - val_loss: 0.2562 - val_mae: 0.2562\n",
      "Epoch 68/100\n",
      "7/7 [==============================] - 0s 4ms/step - loss: 0.2529 - mae: 0.2529 - val_loss: 0.2561 - val_mae: 0.2561\n",
      "Epoch 69/100\n",
      "7/7 [==============================] - 0s 3ms/step - loss: 0.2528 - mae: 0.2528 - val_loss: 0.2560 - val_mae: 0.2560\n",
      "Epoch 70/100\n",
      "7/7 [==============================] - 0s 4ms/step - loss: 0.2528 - mae: 0.2528 - val_loss: 0.2559 - val_mae: 0.2559\n",
      "Epoch 71/100\n",
      "7/7 [==============================] - 0s 4ms/step - loss: 0.2527 - mae: 0.2527 - val_loss: 0.2558 - val_mae: 0.2558\n",
      "Epoch 72/100\n",
      "7/7 [==============================] - 0s 3ms/step - loss: 0.2527 - mae: 0.2527 - val_loss: 0.2558 - val_mae: 0.2558\n",
      "Epoch 73/100\n",
      "7/7 [==============================] - 0s 3ms/step - loss: 0.2526 - mae: 0.2526 - val_loss: 0.2557 - val_mae: 0.2557\n",
      "Epoch 74/100\n",
      "7/7 [==============================] - 0s 3ms/step - loss: 0.2526 - mae: 0.2526 - val_loss: 0.2556 - val_mae: 0.2556\n",
      "Epoch 75/100\n",
      "7/7 [==============================] - 0s 3ms/step - loss: 0.2526 - mae: 0.2526 - val_loss: 0.2556 - val_mae: 0.2556\n",
      "Epoch 76/100\n",
      "7/7 [==============================] - 0s 3ms/step - loss: 0.2525 - mae: 0.2525 - val_loss: 0.2555 - val_mae: 0.2555\n",
      "Epoch 77/100\n",
      "7/7 [==============================] - 0s 4ms/step - loss: 0.2525 - mae: 0.2525 - val_loss: 0.2554 - val_mae: 0.2554\n",
      "Epoch 78/100\n",
      "7/7 [==============================] - 0s 4ms/step - loss: 0.2524 - mae: 0.2524 - val_loss: 0.2554 - val_mae: 0.2554\n",
      "Epoch 79/100\n",
      "7/7 [==============================] - 0s 4ms/step - loss: 0.2524 - mae: 0.2524 - val_loss: 0.2553 - val_mae: 0.2553\n",
      "Epoch 80/100\n",
      "7/7 [==============================] - 0s 3ms/step - loss: 0.2524 - mae: 0.2524 - val_loss: 0.2553 - val_mae: 0.2553\n",
      "Epoch 81/100\n",
      "7/7 [==============================] - 0s 3ms/step - loss: 0.2524 - mae: 0.2524 - val_loss: 0.2552 - val_mae: 0.2552\n",
      "Epoch 82/100\n",
      "7/7 [==============================] - 0s 3ms/step - loss: 0.2523 - mae: 0.2523 - val_loss: 0.2552 - val_mae: 0.2552\n",
      "Epoch 83/100\n",
      "7/7 [==============================] - 0s 4ms/step - loss: 0.2523 - mae: 0.2523 - val_loss: 0.2551 - val_mae: 0.2551\n",
      "Epoch 84/100\n",
      "7/7 [==============================] - 0s 3ms/step - loss: 0.2523 - mae: 0.2523 - val_loss: 0.2550 - val_mae: 0.2550\n",
      "Epoch 85/100\n",
      "7/7 [==============================] - 0s 3ms/step - loss: 0.2522 - mae: 0.2522 - val_loss: 0.2549 - val_mae: 0.2549\n",
      "Epoch 86/100\n",
      "7/7 [==============================] - 0s 3ms/step - loss: 0.2522 - mae: 0.2522 - val_loss: 0.2549 - val_mae: 0.2549\n",
      "Epoch 87/100\n",
      "7/7 [==============================] - 0s 3ms/step - loss: 0.2522 - mae: 0.2522 - val_loss: 0.2549 - val_mae: 0.2549\n",
      "Epoch 88/100\n",
      "7/7 [==============================] - 0s 3ms/step - loss: 0.2522 - mae: 0.2522 - val_loss: 0.2548 - val_mae: 0.2548\n",
      "Epoch 89/100\n",
      "7/7 [==============================] - 0s 3ms/step - loss: 0.2521 - mae: 0.2521 - val_loss: 0.2548 - val_mae: 0.2548\n",
      "Epoch 90/100\n",
      "7/7 [==============================] - 0s 3ms/step - loss: 0.2521 - mae: 0.2521 - val_loss: 0.2547 - val_mae: 0.2547\n",
      "Epoch 91/100\n",
      "7/7 [==============================] - 0s 3ms/step - loss: 0.2521 - mae: 0.2521 - val_loss: 0.2546 - val_mae: 0.2546\n",
      "Epoch 92/100\n",
      "7/7 [==============================] - 0s 3ms/step - loss: 0.2521 - mae: 0.2521 - val_loss: 0.2546 - val_mae: 0.2546\n",
      "Epoch 93/100\n",
      "7/7 [==============================] - 0s 4ms/step - loss: 0.2520 - mae: 0.2520 - val_loss: 0.2545 - val_mae: 0.2545\n",
      "Epoch 94/100\n",
      "7/7 [==============================] - 0s 4ms/step - loss: 0.2520 - mae: 0.2520 - val_loss: 0.2545 - val_mae: 0.2545\n",
      "Epoch 95/100\n",
      "7/7 [==============================] - 0s 4ms/step - loss: 0.2520 - mae: 0.2520 - val_loss: 0.2545 - val_mae: 0.2545\n",
      "Epoch 96/100\n",
      "7/7 [==============================] - 0s 4ms/step - loss: 0.2520 - mae: 0.2520 - val_loss: 0.2544 - val_mae: 0.2544\n",
      "Epoch 97/100\n",
      "7/7 [==============================] - 0s 3ms/step - loss: 0.2520 - mae: 0.2520 - val_loss: 0.2544 - val_mae: 0.2544\n",
      "Epoch 98/100\n",
      "7/7 [==============================] - 0s 4ms/step - loss: 0.2520 - mae: 0.2520 - val_loss: 0.2543 - val_mae: 0.2543\n",
      "Epoch 99/100\n",
      "7/7 [==============================] - 0s 3ms/step - loss: 0.2520 - mae: 0.2520 - val_loss: 0.2543 - val_mae: 0.2543\n",
      "Epoch 100/100\n",
      "7/7 [==============================] - 0s 3ms/step - loss: 0.2519 - mae: 0.2519 - val_loss: 0.2542 - val_mae: 0.2542\n"
     ]
    }
   ],
   "source": [
    "history = model.fit(x_train,y_train, epochs=100, batch_size = 1000, validation_split = 0.2)"
   ]
  },
  {
   "cell_type": "markdown",
   "id": "27da97a0-3c0a-4d25-8cf9-79108cd3357d",
   "metadata": {},
   "source": [
    "**Plot the training loss and the validation loss against the epoch counts**\n",
    "\n",
    "- Epochs will tell how many time the training data will be used to update the weights and biases\n",
    "- Batch size will decide how much of the training data will be used for each epoch to save on time\n",
    "- Validation Split will ensure 80% of the data is used for training\n",
    "\n",
    "Observations\n",
    "\n",
    "- Loss/Mean Absolute Error gives the loss value after each epoch. \n",
    "- Validation Loss/Validation Mean Absolute Error gives the loss on the validation data after each data\n",
    "\n",
    "Notes\n",
    "- If the loss is lowering for the training set but increasing for the validation set, that is a sign of overfitting"
   ]
  },
  {
   "cell_type": "code",
   "execution_count": 11,
   "id": "c7ae430a-45f4-4611-8d63-bc855cf79b23",
   "metadata": {
    "execution": {
     "iopub.execute_input": "2025-08-17T15:58:45.505562Z",
     "iopub.status.busy": "2025-08-17T15:58:45.505105Z",
     "iopub.status.idle": "2025-08-17T15:58:45.622058Z",
     "shell.execute_reply": "2025-08-17T15:58:45.621600Z",
     "shell.execute_reply.started": "2025-08-17T15:58:45.505532Z"
    },
    "tags": []
   },
   "outputs": [
    {
     "data": {
      "image/png": "[encoded data removed]",
      "text/plain": [
       "<Figure size 432x288 with 1 Axes>"
      ]
     },
     "metadata": {
      "needs_background": "light"
     },
     "output_type": "display_data"
    }
   ],
   "source": [
    "import matplotlib.pyplot as plt\n",
    "\n",
    "# Extract the loss and validation loss\n",
    "loss = history.history['loss']\n",
    "val_loss = history.history['val_loss']\n",
    "\n",
    "# Plot the training and validation loss\n",
    "plt.plot(loss, label='Training Loss')\n",
    "plt.plot(val_loss, label='Validation Loss')\n",
    "\n",
    "plt.xlabel('Epochs')\n",
    "plt.ylabel('Loss')\n",
    "plt.title('Loss vs. Epochs')\n",
    "plt.legend()\n",
    "plt.show()"
   ]
  },
  {
   "cell_type": "markdown",
   "id": "8e6a1338-85c2-4cbd-86d9-6272af54b699",
   "metadata": {},
   "source": [
    "**Plot the testing loss against the epoch counts**\n"
   ]
  },
  {
   "cell_type": "code",
   "execution_count": 12,
   "id": "b959f803-4866-461a-a86e-8726b018fc79",
   "metadata": {
    "execution": {
     "iopub.execute_input": "2025-08-17T15:58:49.657807Z",
     "iopub.status.busy": "2025-08-17T15:58:49.657425Z",
     "iopub.status.idle": "2025-08-17T15:58:49.809564Z",
     "shell.execute_reply": "2025-08-17T15:58:49.809015Z",
     "shell.execute_reply.started": "2025-08-17T15:58:49.657789Z"
    },
    "tags": []
   },
   "outputs": [
    {
     "name": "stdout",
     "output_type": "stream",
     "text": [
      "63/63 [==============================] - 0s 372us/step\n",
      "63/63 [==============================] - 0s 453us/step - loss: 0.2501 - mae: 0.2501\n",
      "Test Loss: 0.25012341141700745, Test MAE: 0.25012341141700745\n"
     ]
    }
   ],
   "source": [
    "predictions = model.predict(x_test)\n",
    "\n",
    "#Evaluate the model on the testing set\n",
    "test_loss, test_mae = model.evaluate(x_test, y_test)\n",
    "print(f\"Test Loss: {test_loss}, Test MAE: {test_mae}\")"
   ]
  },
  {
   "cell_type": "code",
   "execution_count": 13,
   "id": "f71b6f90-ad10-48ff-b79b-ba83fca4a489",
   "metadata": {
    "execution": {
     "iopub.execute_input": "2025-08-17T15:58:52.505648Z",
     "iopub.status.busy": "2025-08-17T15:58:52.505280Z",
     "iopub.status.idle": "2025-08-17T15:58:52.643714Z",
     "shell.execute_reply": "2025-08-17T15:58:52.643256Z",
     "shell.execute_reply.started": "2025-08-17T15:58:52.505629Z"
    },
    "tags": []
   },
   "outputs": [
    {
     "data": {
      "image/png": "[encoded data removed]",
      "text/plain": [
       "<Figure size 432x288 with 1 Axes>"
      ]
     },
     "metadata": {
      "needs_background": "light"
     },
     "output_type": "display_data"
    }
   ],
   "source": [
    "import matplotlib.pyplot as plt\n",
    "\n",
    "# Example data\n",
    "y_test = [1, 2, 3, 4, 5]\n",
    "predictions = [1.1, 1.9, 3.2, 3.8, 5.1]\n",
    "\n",
    "# Scatter plot with label\n",
    "plt.scatter(y_test, predictions, label=\"Predictions vs Actual\")\n",
    "\n",
    "# Add a reference line (ideal predictions line)\n",
    "plt.plot(y_test, y_test, color='red', label=\"Ideal Line\")  # Reference line with label\n",
    "\n",
    "# Add labels and title\n",
    "plt.xlabel(\"Actual Values\")\n",
    "plt.ylabel(\"Predicted Values\")\n",
    "plt.title(\"Predicted vs Actual Values\")\n",
    "\n",
    "# Add legend\n",
    "plt.legend()\n",
    "\n",
    "# Show the plot\n",
    "plt.show()"
   ]
  },
  {
   "cell_type": "markdown",
   "id": "17ab1bec-6016-4c58-9d67-7ba9e864ff09",
   "metadata": {},
   "source": [
    "Once visually assessed, the predicted values for the y-test do not properly align with the actual values. For the moment, this demonstrates a simple neural network to be modelled."
   ]
  }
 ],
 "metadata": {
  "kernelspec": {
   "display_name": "Python 3.8.x",
   "language": "python",
   "name": "python_3.8.x"
  },
  "language_info": {
   "codemirror_mode": {
    "name": "ipython",
    "version": 3
   },
   "file_extension": ".py",
   "mimetype": "text/x-python",
   "name": "python",
   "nbconvert_exporter": "python",
   "pygments_lexer": "ipython3",
   "version": "3.8.4"
  }
 },
 "nbformat": 4,
 "nbformat_minor": 5
}
