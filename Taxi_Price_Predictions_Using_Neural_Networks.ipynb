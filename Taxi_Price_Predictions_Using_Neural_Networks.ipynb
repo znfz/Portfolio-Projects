{
 "cells": [
  {
   "cell_type": "markdown",
   "id": "d9103f56-682c-4ee8-b4a1-613b65b2dcf6",
   "metadata": {},
   "source": [
    "<center><h3>Introduction</h3></center>\n",
    "\n",
    "Create a neural network to predict taxi fares based upon the day, time and distance."
   ]
  },
  {
   "cell_type": "code",
   "execution_count": 3,
   "id": "fd9106f3-4496-4a00-bcfa-cd164c8bd6a1",
   "metadata": {
    "execution": {
     "iopub.execute_input": "2025-08-14T22:08:54.482043Z",
     "iopub.status.busy": "2025-08-14T22:08:54.481690Z",
     "iopub.status.idle": "2025-08-14T22:08:55.137060Z",
     "shell.execute_reply": "2025-08-14T22:08:55.136508Z",
     "shell.execute_reply.started": "2025-08-14T22:08:54.482027Z"
    },
    "tags": []
   },
   "outputs": [],
   "source": [
    "import pandas as pd\n",
    "file = '/data/home/rizan.fazily/Neural Networks/EU/taxi-fares.csv'\n",
    "df = pd.read_csv(file, parse_dates=['pickup_datetime'])"
   ]
  },
  {
   "cell_type": "markdown",
   "id": "42241f8f-b41c-4014-bb48-10b7fcbde9d2",
   "metadata": {
    "execution": {
     "iopub.execute_input": "2025-08-14T22:13:00.477829Z",
     "iopub.status.busy": "2025-08-14T22:13:00.477455Z",
     "iopub.status.idle": "2025-08-14T22:13:00.480920Z",
     "shell.execute_reply": "2025-08-14T22:13:00.480419Z",
     "shell.execute_reply.started": "2025-08-14T22:13:00.477812Z"
    }
   },
   "source": [
    "**Transform dataset for analysis**\n",
    "\n",
    "- Fare\n",
    "- Get the day of the week (0 - 7)\n",
    "- Time: 0 - 24\n",
    "- Distance\n",
    "\n",
    "Once we have all of the above the dataset is ready for analysis.\n"
   ]
  },
  {
   "cell_type": "code",
   "execution_count": 4,
   "id": "103d954b-906e-4ee7-862d-e0203d83ac2f",
   "metadata": {
    "execution": {
     "iopub.execute_input": "2025-08-14T22:09:07.481282Z",
     "iopub.status.busy": "2025-08-14T22:09:07.480915Z",
     "iopub.status.idle": "2025-08-14T22:09:10.611599Z",
     "shell.execute_reply": "2025-08-14T22:09:10.611144Z",
     "shell.execute_reply.started": "2025-08-14T22:09:07.481265Z"
    }
   },
   "outputs": [
    {
     "data": {
      "text/html": [
       "<div>\n",
       "<style scoped>\n",
       "    .dataframe tbody tr th:only-of-type {\n",
       "        vertical-align: middle;\n",
       "    }\n",
       "\n",
       "    .dataframe tbody tr th {\n",
       "        vertical-align: top;\n",
       "    }\n",
       "\n",
       "    .dataframe thead th {\n",
       "        text-align: right;\n",
       "    }\n",
       "</style>\n",
       "<table border=\"1\" class=\"dataframe\">\n",
       "  <thead>\n",
       "    <tr style=\"text-align: right;\">\n",
       "      <th></th>\n",
       "      <th>fare_amount</th>\n",
       "      <th>day_of_week</th>\n",
       "      <th>pickup_time</th>\n",
       "      <th>distance</th>\n",
       "    </tr>\n",
       "  </thead>\n",
       "  <tbody>\n",
       "    <tr>\n",
       "      <th>2</th>\n",
       "      <td>6.1</td>\n",
       "      <td>0.0</td>\n",
       "      <td>15.0</td>\n",
       "      <td>1.038136</td>\n",
       "    </tr>\n",
       "    <tr>\n",
       "      <th>4</th>\n",
       "      <td>10.5</td>\n",
       "      <td>5.0</td>\n",
       "      <td>10.0</td>\n",
       "      <td>2.924341</td>\n",
       "    </tr>\n",
       "    <tr>\n",
       "      <th>5</th>\n",
       "      <td>15.3</td>\n",
       "      <td>4.0</td>\n",
       "      <td>20.0</td>\n",
       "      <td>4.862893</td>\n",
       "    </tr>\n",
       "    <tr>\n",
       "      <th>8</th>\n",
       "      <td>7.7</td>\n",
       "      <td>5.0</td>\n",
       "      <td>1.0</td>\n",
       "      <td>2.603493</td>\n",
       "    </tr>\n",
       "    <tr>\n",
       "      <th>9</th>\n",
       "      <td>8.9</td>\n",
       "      <td>3.0</td>\n",
       "      <td>16.0</td>\n",
       "      <td>1.365739</td>\n",
       "    </tr>\n",
       "  </tbody>\n",
       "</table>\n",
       "</div>"
      ],
      "text/plain": [
       "   fare_amount  day_of_week  pickup_time  distance\n",
       "2          6.1          0.0         15.0  1.038136\n",
       "4         10.5          5.0         10.0  2.924341\n",
       "5         15.3          4.0         20.0  4.862893\n",
       "8          7.7          5.0          1.0  2.603493\n",
       "9          8.9          3.0         16.0  1.365739"
      ]
     },
     "execution_count": 4,
     "metadata": {},
     "output_type": "execute_result"
    }
   ],
   "source": [
    "from math import sqrt\n",
    " \n",
    "df = df[df['passenger_count'] == 1]\n",
    "df = df.drop(['key', 'passenger_count'], axis=1)\n",
    " \n",
    "for i, row in df.iterrows():\n",
    "    dt = row['pickup_datetime']\n",
    "    df.at[i, 'day_of_week'] = dt.weekday()\n",
    "    df.at[i, 'pickup_time'] = dt.hour\n",
    "    x = (row['dropoff_longitude'] - row['pickup_longitude']) * 54.6\n",
    "    y = (row['dropoff_latitude'] - row['pickup_latitude']) * 69.0\n",
    "    distance = sqrt(x**2 + y**2)\n",
    "    df.at[i, 'distance'] = distance\n",
    " \n",
    "df.drop(['pickup_datetime', 'pickup_longitude', 'pickup_latitude', 'dropoff_longitude', 'dropoff_latitude'], \n",
    "        axis=1, inplace=True)\n",
    " \n",
    "df = df[(df['distance'] > 1.0) & (df['distance'] < 10.0)]\n",
    "df = df[(df['fare_amount'] > 0.0) & (df['fare_amount'] < 50.0)]\n",
    "df.head()"
   ]
  },
  {
   "cell_type": "markdown",
   "id": "0d7a9e92-ce16-4a80-91e4-4812b70e6732",
   "metadata": {},
   "source": [
    "**Architecture for the Neural Network**\n",
    "\n",
    "- 3 input predictors\n",
    "- 2 hidden layers with 512 neurons in each\n",
    "- 1 output variables\n",
    "\n",
    "**Optimizer**\n",
    "- Adam optimizer algorithm is a combination of RMSProp and Momentum\n",
    "- Hyperparameters include learning rate, Beta, Epsilon\n",
    "\n",
    "**Loss Function**\n",
    "- Mean Absolute Error is the loss function"
   ]
  },
  {
   "cell_type": "code",
   "execution_count": 11,
   "id": "44613a18-de0c-4ebc-a515-fb3f9ac72de7",
   "metadata": {
    "execution": {
     "iopub.execute_input": "2025-08-14T22:32:43.476508Z",
     "iopub.status.busy": "2025-08-14T22:32:43.476159Z",
     "iopub.status.idle": "2025-08-14T22:32:43.505322Z",
     "shell.execute_reply": "2025-08-14T22:32:43.504837Z",
     "shell.execute_reply.started": "2025-08-14T22:32:43.476491Z"
    },
    "tags": []
   },
   "outputs": [
    {
     "name": "stdout",
     "output_type": "stream",
     "text": [
      "Model: \"sequential_2\"\n",
      "_________________________________________________________________\n",
      " Layer (type)                Output Shape              Param #   \n",
      "=================================================================\n",
      " dense_6 (Dense)             (None, 512)               2048      \n",
      "                                                                 \n",
      " dense_7 (Dense)             (None, 512)               262656    \n",
      "                                                                 \n",
      " dense_8 (Dense)             (None, 1)                 513       \n",
      "                                                                 \n",
      "=================================================================\n",
      "Total params: 265217 (1.01 MB)\n",
      "Trainable params: 265217 (1.01 MB)\n",
      "Non-trainable params: 0 (0.00 Byte)\n",
      "_________________________________________________________________\n"
     ]
    }
   ],
   "source": [
    "from tensorflow.keras.layers import Dense\n",
    "from tensorflow.keras.models import Sequential\n",
    "\n",
    "model = Sequential()\n",
    "\n",
    "# First hidden layer has 512 neurons and connected to the 3 input dimensions\n",
    "model.add(Dense(512, activation = 'relu', input_dim = 3))\n",
    "\n",
    "# Second hidden layer has 512 neurons and connected to the 512 neurons of first hidden layer output\n",
    "model.add(Dense(512, activation = 'relu'))\n",
    "\n",
    "# One outer layer connected to 512 outputs of second hidden layer\n",
    "model.add(Dense(1))\n",
    "\n",
    "# Set the optimizer and the loss function\n",
    "model.compile(optimizer = 'adam', loss='mae', metrics =['mae'])\n",
    "model.summary()"
   ]
  },
  {
   "cell_type": "markdown",
   "id": "88b9d731-4ee9-4697-a9f2-3f40d8206228",
   "metadata": {},
   "source": [
    "**Separate the predictors and variables**"
   ]
  },
  {
   "cell_type": "code",
   "execution_count": 31,
   "id": "81036b87-559f-49c8-bf5c-8dbc8af17290",
   "metadata": {
    "execution": {
     "iopub.execute_input": "2025-08-14T23:13:09.805120Z",
     "iopub.status.busy": "2025-08-14T23:13:09.804735Z",
     "iopub.status.idle": "2025-08-14T23:13:09.830667Z",
     "shell.execute_reply": "2025-08-14T23:13:09.830178Z",
     "shell.execute_reply.started": "2025-08-14T23:13:09.805102Z"
    },
    "tags": []
   },
   "outputs": [
    {
     "name": "stdout",
     "output_type": "stream",
     "text": [
      "Training samples #: 18638\n",
      "Testing sample #: 4660\n"
     ]
    }
   ],
   "source": [
    "x = df.drop('fare_amount', axis = 1)\n",
    "y = df['fare_amount']\n",
    "\n",
    "# Split the dataset into training and testing sets\n",
    "from sklearn.model_selection import train_test_split\n",
    "x_train, x_test, y_train, y_test = train_test_split(x, y, test_size=0.2, random_state=42)\n",
    "\n",
    "print('Training samples #:',x_train.shape[0])\n",
    "print('Testing sample #:',x_test.shape[0])"
   ]
  },
  {
   "cell_type": "markdown",
   "id": "e2b582cc-529c-494d-8f54-e9a7427f8683",
   "metadata": {},
   "source": [
    "The batch_size will be 100 for each epoch as 18638 datapoints is too much for each epoch.\n",
    "75% of the data will be used for training and 30% for testing."
   ]
  },
  {
   "cell_type": "code",
   "execution_count": 32,
   "id": "33c15978-4c1f-4159-9983-c8cad00966f9",
   "metadata": {
    "execution": {
     "iopub.execute_input": "2025-08-14T23:13:39.923018Z",
     "iopub.status.busy": "2025-08-14T23:13:39.922624Z",
     "iopub.status.idle": "2025-08-14T23:14:17.320886Z",
     "shell.execute_reply": "2025-08-14T23:14:17.320372Z",
     "shell.execute_reply.started": "2025-08-14T23:13:39.923001Z"
    },
    "tags": []
   },
   "outputs": [
    {
     "name": "stdout",
     "output_type": "stream",
     "text": [
      "Epoch 1/100\n",
      "140/140 [==============================] - 0s 3ms/step - loss: 2.2367 - mae: 2.2367 - val_loss: 2.2595 - val_mae: 2.2595\n",
      "Epoch 2/100\n",
      "140/140 [==============================] - 0s 3ms/step - loss: 2.2351 - mae: 2.2351 - val_loss: 2.2522 - val_mae: 2.2522\n",
      "Epoch 3/100\n",
      "140/140 [==============================] - 0s 3ms/step - loss: 2.2359 - mae: 2.2359 - val_loss: 2.2510 - val_mae: 2.2510\n",
      "Epoch 4/100\n",
      "140/140 [==============================] - 0s 3ms/step - loss: 2.2341 - mae: 2.2341 - val_loss: 2.2603 - val_mae: 2.2603\n",
      "Epoch 5/100\n",
      "140/140 [==============================] - 0s 3ms/step - loss: 2.2357 - mae: 2.2357 - val_loss: 2.2479 - val_mae: 2.2479\n",
      "Epoch 6/100\n",
      "140/140 [==============================] - 0s 3ms/step - loss: 2.2408 - mae: 2.2408 - val_loss: 2.2517 - val_mae: 2.2517\n",
      "Epoch 7/100\n",
      "140/140 [==============================] - 0s 3ms/step - loss: 2.2354 - mae: 2.2354 - val_loss: 2.2553 - val_mae: 2.2553\n",
      "Epoch 8/100\n",
      "140/140 [==============================] - 0s 3ms/step - loss: 2.2384 - mae: 2.2384 - val_loss: 2.2454 - val_mae: 2.2454\n",
      "Epoch 9/100\n",
      "140/140 [==============================] - 0s 3ms/step - loss: 2.2427 - mae: 2.2427 - val_loss: 2.2648 - val_mae: 2.2648\n",
      "Epoch 10/100\n",
      "140/140 [==============================] - 0s 3ms/step - loss: 2.2348 - mae: 2.2348 - val_loss: 2.2848 - val_mae: 2.2848\n",
      "Epoch 11/100\n",
      "140/140 [==============================] - 0s 3ms/step - loss: 2.2320 - mae: 2.2320 - val_loss: 2.2502 - val_mae: 2.2502\n",
      "Epoch 12/100\n",
      "140/140 [==============================] - 0s 3ms/step - loss: 2.2304 - mae: 2.2304 - val_loss: 2.2574 - val_mae: 2.2574\n",
      "Epoch 13/100\n",
      "140/140 [==============================] - 0s 3ms/step - loss: 2.2302 - mae: 2.2302 - val_loss: 2.2670 - val_mae: 2.2670\n",
      "Epoch 14/100\n",
      "140/140 [==============================] - 0s 3ms/step - loss: 2.2358 - mae: 2.2358 - val_loss: 2.2500 - val_mae: 2.2500\n",
      "Epoch 15/100\n",
      "140/140 [==============================] - 0s 3ms/step - loss: 2.2354 - mae: 2.2354 - val_loss: 2.2588 - val_mae: 2.2588\n",
      "Epoch 16/100\n",
      "140/140 [==============================] - 0s 3ms/step - loss: 2.2327 - mae: 2.2327 - val_loss: 2.2514 - val_mae: 2.2514\n",
      "Epoch 17/100\n",
      "140/140 [==============================] - 0s 3ms/step - loss: 2.2374 - mae: 2.2374 - val_loss: 2.2659 - val_mae: 2.2659\n",
      "Epoch 18/100\n",
      "140/140 [==============================] - 0s 3ms/step - loss: 2.2330 - mae: 2.2330 - val_loss: 2.2850 - val_mae: 2.2850\n",
      "Epoch 19/100\n",
      "140/140 [==============================] - 0s 3ms/step - loss: 2.2315 - mae: 2.2315 - val_loss: 2.2577 - val_mae: 2.2577\n",
      "Epoch 20/100\n",
      "140/140 [==============================] - 0s 3ms/step - loss: 2.2277 - mae: 2.2277 - val_loss: 2.2773 - val_mae: 2.2773\n",
      "Epoch 21/100\n",
      "140/140 [==============================] - 0s 3ms/step - loss: 2.2323 - mae: 2.2323 - val_loss: 2.3134 - val_mae: 2.3134\n",
      "Epoch 22/100\n",
      "140/140 [==============================] - 0s 3ms/step - loss: 2.2288 - mae: 2.2288 - val_loss: 2.2484 - val_mae: 2.2484\n",
      "Epoch 23/100\n",
      "140/140 [==============================] - 0s 3ms/step - loss: 2.2363 - mae: 2.2363 - val_loss: 2.2505 - val_mae: 2.2505\n",
      "Epoch 24/100\n",
      "140/140 [==============================] - 0s 3ms/step - loss: 2.2297 - mae: 2.2297 - val_loss: 2.2693 - val_mae: 2.2693\n",
      "Epoch 25/100\n",
      "140/140 [==============================] - 0s 3ms/step - loss: 2.2320 - mae: 2.2320 - val_loss: 2.2758 - val_mae: 2.2758\n",
      "Epoch 26/100\n",
      "140/140 [==============================] - 0s 3ms/step - loss: 2.2304 - mae: 2.2304 - val_loss: 2.2656 - val_mae: 2.2656\n",
      "Epoch 27/100\n",
      "140/140 [==============================] - 0s 3ms/step - loss: 2.2292 - mae: 2.2292 - val_loss: 2.2490 - val_mae: 2.2490\n",
      "Epoch 28/100\n",
      "140/140 [==============================] - 0s 3ms/step - loss: 2.2305 - mae: 2.2305 - val_loss: 2.2582 - val_mae: 2.2582\n",
      "Epoch 29/100\n",
      "140/140 [==============================] - 0s 3ms/step - loss: 2.2358 - mae: 2.2358 - val_loss: 2.2581 - val_mae: 2.2581\n",
      "Epoch 30/100\n",
      "140/140 [==============================] - 0s 3ms/step - loss: 2.2307 - mae: 2.2307 - val_loss: 2.2645 - val_mae: 2.2645\n",
      "Epoch 31/100\n",
      "140/140 [==============================] - 0s 3ms/step - loss: 2.2342 - mae: 2.2342 - val_loss: 2.2649 - val_mae: 2.2649\n",
      "Epoch 32/100\n",
      "140/140 [==============================] - 0s 3ms/step - loss: 2.2362 - mae: 2.2362 - val_loss: 2.2664 - val_mae: 2.2664\n",
      "Epoch 33/100\n",
      "140/140 [==============================] - 0s 3ms/step - loss: 2.2299 - mae: 2.2299 - val_loss: 2.2687 - val_mae: 2.2687\n",
      "Epoch 34/100\n",
      "140/140 [==============================] - 0s 3ms/step - loss: 2.2327 - mae: 2.2327 - val_loss: 2.2510 - val_mae: 2.2510\n",
      "Epoch 35/100\n",
      "140/140 [==============================] - 0s 3ms/step - loss: 2.2279 - mae: 2.2279 - val_loss: 2.2696 - val_mae: 2.2696\n",
      "Epoch 36/100\n",
      "140/140 [==============================] - 0s 3ms/step - loss: 2.2258 - mae: 2.2258 - val_loss: 2.2570 - val_mae: 2.2570\n",
      "Epoch 37/100\n",
      "140/140 [==============================] - 0s 3ms/step - loss: 2.2356 - mae: 2.2356 - val_loss: 2.2628 - val_mae: 2.2628\n",
      "Epoch 38/100\n",
      "140/140 [==============================] - 0s 3ms/step - loss: 2.2311 - mae: 2.2311 - val_loss: 2.2662 - val_mae: 2.2662\n",
      "Epoch 39/100\n",
      "140/140 [==============================] - 0s 3ms/step - loss: 2.2312 - mae: 2.2312 - val_loss: 2.2782 - val_mae: 2.2782\n",
      "Epoch 40/100\n",
      "140/140 [==============================] - 0s 3ms/step - loss: 2.2240 - mae: 2.2240 - val_loss: 2.2606 - val_mae: 2.2606\n",
      "Epoch 41/100\n",
      "140/140 [==============================] - 0s 3ms/step - loss: 2.2296 - mae: 2.2296 - val_loss: 2.2770 - val_mae: 2.2770\n",
      "Epoch 42/100\n",
      "140/140 [==============================] - 0s 3ms/step - loss: 2.2318 - mae: 2.2318 - val_loss: 2.2704 - val_mae: 2.2704\n",
      "Epoch 43/100\n",
      "140/140 [==============================] - 0s 3ms/step - loss: 2.2262 - mae: 2.2262 - val_loss: 2.2949 - val_mae: 2.2949\n",
      "Epoch 44/100\n",
      "140/140 [==============================] - 0s 3ms/step - loss: 2.2275 - mae: 2.2275 - val_loss: 2.2542 - val_mae: 2.2542\n",
      "Epoch 45/100\n",
      "140/140 [==============================] - 0s 3ms/step - loss: 2.2237 - mae: 2.2237 - val_loss: 2.2597 - val_mae: 2.2597\n",
      "Epoch 46/100\n",
      "140/140 [==============================] - 0s 3ms/step - loss: 2.2285 - mae: 2.2285 - val_loss: 2.2784 - val_mae: 2.2784\n",
      "Epoch 47/100\n",
      "140/140 [==============================] - 0s 3ms/step - loss: 2.2305 - mae: 2.2305 - val_loss: 2.2958 - val_mae: 2.2958\n",
      "Epoch 48/100\n",
      "140/140 [==============================] - 0s 3ms/step - loss: 2.2282 - mae: 2.2282 - val_loss: 2.2495 - val_mae: 2.2495\n",
      "Epoch 49/100\n",
      "140/140 [==============================] - 0s 3ms/step - loss: 2.2230 - mae: 2.2230 - val_loss: 2.2627 - val_mae: 2.2627\n",
      "Epoch 50/100\n",
      "140/140 [==============================] - 0s 3ms/step - loss: 2.2297 - mae: 2.2297 - val_loss: 2.2606 - val_mae: 2.2606\n",
      "Epoch 51/100\n",
      "140/140 [==============================] - 0s 3ms/step - loss: 2.2256 - mae: 2.2256 - val_loss: 2.2599 - val_mae: 2.2599\n",
      "Epoch 52/100\n",
      "140/140 [==============================] - 0s 3ms/step - loss: 2.2295 - mae: 2.2295 - val_loss: 2.2679 - val_mae: 2.2679\n",
      "Epoch 53/100\n",
      "140/140 [==============================] - 0s 3ms/step - loss: 2.2266 - mae: 2.2266 - val_loss: 2.2629 - val_mae: 2.2629\n",
      "Epoch 54/100\n",
      "140/140 [==============================] - 0s 3ms/step - loss: 2.2271 - mae: 2.2271 - val_loss: 2.2748 - val_mae: 2.2748\n",
      "Epoch 55/100\n",
      "140/140 [==============================] - 0s 3ms/step - loss: 2.2245 - mae: 2.2245 - val_loss: 2.2615 - val_mae: 2.2615\n",
      "Epoch 56/100\n",
      "140/140 [==============================] - 0s 3ms/step - loss: 2.2259 - mae: 2.2259 - val_loss: 2.2676 - val_mae: 2.2676\n",
      "Epoch 57/100\n",
      "140/140 [==============================] - 0s 3ms/step - loss: 2.2290 - mae: 2.2290 - val_loss: 2.2627 - val_mae: 2.2627\n",
      "Epoch 58/100\n",
      "140/140 [==============================] - 0s 3ms/step - loss: 2.2234 - mae: 2.2234 - val_loss: 2.2564 - val_mae: 2.2564\n",
      "Epoch 59/100\n",
      "140/140 [==============================] - 0s 3ms/step - loss: 2.2251 - mae: 2.2251 - val_loss: 2.2622 - val_mae: 2.2622\n",
      "Epoch 60/100\n",
      "140/140 [==============================] - 0s 3ms/step - loss: 2.2293 - mae: 2.2293 - val_loss: 2.2620 - val_mae: 2.2620\n",
      "Epoch 61/100\n",
      "140/140 [==============================] - 0s 3ms/step - loss: 2.2283 - mae: 2.2283 - val_loss: 2.2929 - val_mae: 2.2929\n",
      "Epoch 62/100\n",
      "140/140 [==============================] - 0s 3ms/step - loss: 2.2235 - mae: 2.2235 - val_loss: 2.2781 - val_mae: 2.2781\n",
      "Epoch 63/100\n",
      "140/140 [==============================] - 0s 3ms/step - loss: 2.2233 - mae: 2.2233 - val_loss: 2.2766 - val_mae: 2.2766\n",
      "Epoch 64/100\n",
      "140/140 [==============================] - 0s 3ms/step - loss: 2.2254 - mae: 2.2254 - val_loss: 2.2664 - val_mae: 2.2664\n",
      "Epoch 65/100\n",
      "140/140 [==============================] - 0s 3ms/step - loss: 2.2234 - mae: 2.2234 - val_loss: 2.2669 - val_mae: 2.2669\n",
      "Epoch 66/100\n",
      "140/140 [==============================] - 0s 3ms/step - loss: 2.2203 - mae: 2.2203 - val_loss: 2.2627 - val_mae: 2.2627\n",
      "Epoch 67/100\n",
      "140/140 [==============================] - 0s 3ms/step - loss: 2.2237 - mae: 2.2237 - val_loss: 2.2521 - val_mae: 2.2521\n",
      "Epoch 68/100\n",
      "140/140 [==============================] - 0s 3ms/step - loss: 2.2239 - mae: 2.2239 - val_loss: 2.2758 - val_mae: 2.2758\n",
      "Epoch 69/100\n",
      "140/140 [==============================] - 0s 3ms/step - loss: 2.2260 - mae: 2.2260 - val_loss: 2.3016 - val_mae: 2.3016\n",
      "Epoch 70/100\n",
      "140/140 [==============================] - 0s 3ms/step - loss: 2.2221 - mae: 2.2221 - val_loss: 2.2828 - val_mae: 2.2828\n",
      "Epoch 71/100\n",
      "140/140 [==============================] - 0s 3ms/step - loss: 2.2210 - mae: 2.2210 - val_loss: 2.2586 - val_mae: 2.2586\n",
      "Epoch 72/100\n",
      "140/140 [==============================] - 0s 3ms/step - loss: 2.2273 - mae: 2.2273 - val_loss: 2.2548 - val_mae: 2.2548\n",
      "Epoch 73/100\n",
      "140/140 [==============================] - 0s 3ms/step - loss: 2.2248 - mae: 2.2248 - val_loss: 2.2567 - val_mae: 2.2567\n",
      "Epoch 74/100\n",
      "140/140 [==============================] - 0s 3ms/step - loss: 2.2273 - mae: 2.2273 - val_loss: 2.2596 - val_mae: 2.2596\n",
      "Epoch 75/100\n",
      "140/140 [==============================] - 0s 3ms/step - loss: 2.2237 - mae: 2.2237 - val_loss: 2.2695 - val_mae: 2.2695\n",
      "Epoch 76/100\n",
      "140/140 [==============================] - 0s 3ms/step - loss: 2.2281 - mae: 2.2281 - val_loss: 2.2600 - val_mae: 2.2600\n",
      "Epoch 77/100\n",
      "140/140 [==============================] - 0s 3ms/step - loss: 2.2259 - mae: 2.2259 - val_loss: 2.2641 - val_mae: 2.2641\n",
      "Epoch 78/100\n",
      "140/140 [==============================] - 0s 3ms/step - loss: 2.2233 - mae: 2.2233 - val_loss: 2.2655 - val_mae: 2.2655\n",
      "Epoch 79/100\n",
      "140/140 [==============================] - 0s 3ms/step - loss: 2.2236 - mae: 2.2236 - val_loss: 2.2739 - val_mae: 2.2739\n",
      "Epoch 80/100\n",
      "140/140 [==============================] - 0s 3ms/step - loss: 2.2244 - mae: 2.2244 - val_loss: 2.2981 - val_mae: 2.2981\n",
      "Epoch 81/100\n",
      "140/140 [==============================] - 0s 3ms/step - loss: 2.2243 - mae: 2.2243 - val_loss: 2.2629 - val_mae: 2.2629\n",
      "Epoch 82/100\n",
      "140/140 [==============================] - 0s 3ms/step - loss: 2.2227 - mae: 2.2227 - val_loss: 2.2607 - val_mae: 2.2607\n",
      "Epoch 83/100\n",
      "140/140 [==============================] - 0s 3ms/step - loss: 2.2203 - mae: 2.2203 - val_loss: 2.2621 - val_mae: 2.2621\n",
      "Epoch 84/100\n",
      "140/140 [==============================] - 0s 3ms/step - loss: 2.2264 - mae: 2.2264 - val_loss: 2.2752 - val_mae: 2.2752\n",
      "Epoch 85/100\n",
      "140/140 [==============================] - 0s 3ms/step - loss: 2.2221 - mae: 2.2221 - val_loss: 2.2600 - val_mae: 2.2600\n",
      "Epoch 86/100\n",
      "140/140 [==============================] - 0s 3ms/step - loss: 2.2243 - mae: 2.2243 - val_loss: 2.2770 - val_mae: 2.2770\n",
      "Epoch 87/100\n",
      "140/140 [==============================] - 0s 3ms/step - loss: 2.2294 - mae: 2.2294 - val_loss: 2.2654 - val_mae: 2.2654\n",
      "Epoch 88/100\n",
      "140/140 [==============================] - 0s 3ms/step - loss: 2.2212 - mae: 2.2212 - val_loss: 2.2668 - val_mae: 2.2668\n",
      "Epoch 89/100\n",
      "140/140 [==============================] - 0s 3ms/step - loss: 2.2255 - mae: 2.2255 - val_loss: 2.2626 - val_mae: 2.2626\n",
      "Epoch 90/100\n",
      "140/140 [==============================] - 0s 3ms/step - loss: 2.2240 - mae: 2.2240 - val_loss: 2.2609 - val_mae: 2.2609\n",
      "Epoch 91/100\n",
      "140/140 [==============================] - 0s 3ms/step - loss: 2.2287 - mae: 2.2287 - val_loss: 2.2695 - val_mae: 2.2695\n",
      "Epoch 92/100\n",
      "140/140 [==============================] - 0s 3ms/step - loss: 2.2231 - mae: 2.2231 - val_loss: 2.2756 - val_mae: 2.2756\n",
      "Epoch 93/100\n",
      "140/140 [==============================] - 0s 3ms/step - loss: 2.2245 - mae: 2.2245 - val_loss: 2.2819 - val_mae: 2.2819\n",
      "Epoch 94/100\n",
      "140/140 [==============================] - 0s 3ms/step - loss: 2.2257 - mae: 2.2257 - val_loss: 2.2660 - val_mae: 2.2660\n",
      "Epoch 95/100\n",
      "140/140 [==============================] - 0s 3ms/step - loss: 2.2267 - mae: 2.2267 - val_loss: 2.2646 - val_mae: 2.2646\n",
      "Epoch 96/100\n",
      "140/140 [==============================] - 0s 3ms/step - loss: 2.2243 - mae: 2.2243 - val_loss: 2.3052 - val_mae: 2.3052\n",
      "Epoch 97/100\n",
      "140/140 [==============================] - 0s 3ms/step - loss: 2.2278 - mae: 2.2278 - val_loss: 2.2889 - val_mae: 2.2889\n",
      "Epoch 98/100\n",
      "140/140 [==============================] - 0s 3ms/step - loss: 2.2255 - mae: 2.2255 - val_loss: 2.2678 - val_mae: 2.2678\n",
      "Epoch 99/100\n",
      "140/140 [==============================] - 0s 3ms/step - loss: 2.2229 - mae: 2.2229 - val_loss: 2.2698 - val_mae: 2.2698\n",
      "Epoch 100/100\n",
      "140/140 [==============================] - 0s 3ms/step - loss: 2.2219 - mae: 2.2219 - val_loss: 2.2632 - val_mae: 2.2632\n"
     ]
    }
   ],
   "source": [
    "hist = model.fit(x_train,y_train, epochs=100, batch_size=100, validation_split=0.25)"
   ]
  },
  {
   "cell_type": "markdown",
   "id": "90192fdf-667a-4be0-a85f-35a3e7c069db",
   "metadata": {},
   "source": [
    "**Plot the training loss and the validation loss against the epoch counts**"
   ]
  },
  {
   "cell_type": "code",
   "execution_count": 33,
   "id": "a2bd12fb-6328-4f46-85e1-164210d55f5e",
   "metadata": {
    "execution": {
     "iopub.execute_input": "2025-08-14T23:14:20.899993Z",
     "iopub.status.busy": "2025-08-14T23:14:20.899610Z",
     "iopub.status.idle": "2025-08-14T23:14:21.020954Z",
     "shell.execute_reply": "2025-08-14T23:14:21.020533Z",
     "shell.execute_reply.started": "2025-08-14T23:14:20.899976Z"
    },
    "tags": []
   },
   "outputs": [
    {
     "data": {
      "image/png": "[encoded data removed]",
      "text/plain": [
       "<Figure size 432x288 with 1 Axes>"
      ]
     },
     "metadata": {
      "needs_background": "light"
     },
     "output_type": "display_data"
    }
   ],
   "source": [
    "import matplotlib.pyplot as plt\n",
    "\n",
    "# Extract the loss and validation loss\n",
    "loss = hist.history['loss']\n",
    "val_loss = hist.history['val_loss']\n",
    "\n",
    "# Plot the training and validation loss\n",
    "plt.plot(loss, label='Training Loss')\n",
    "plt.plot(val_loss, label='Validation Loss')\n",
    "\n",
    "plt.xlabel('Epochs')\n",
    "plt.ylabel('Loss')\n",
    "plt.title('Loss vs. Epochs')\n",
    "plt.legend()\n",
    "plt.show()"
   ]
  },
  {
   "cell_type": "markdown",
   "id": "98fab3d8-15ae-4635-8066-059b7fa11809",
   "metadata": {},
   "source": [
    "**Observations**\n",
    "\n",
    "- Training error is ~ 2.30 which means this model can predict the fares within $2.30 of the actual fare.**\n",
    "\n",
    "**Get the R2 Score**\n",
    "\n",
    "- For how accurate a prediction is"
   ]
  },
  {
   "cell_type": "code",
   "execution_count": 36,
   "id": "e0746e41-0a44-499f-b6ac-67ff9ab613cd",
   "metadata": {
    "execution": {
     "iopub.execute_input": "2025-08-14T23:18:32.806897Z",
     "iopub.status.busy": "2025-08-14T23:18:32.806493Z",
     "iopub.status.idle": "2025-08-14T23:18:32.932155Z",
     "shell.execute_reply": "2025-08-14T23:18:32.931679Z",
     "shell.execute_reply.started": "2025-08-14T23:18:32.806880Z"
    },
    "tags": []
   },
   "outputs": [
    {
     "name": "stdout",
     "output_type": "stream",
     "text": [
      "146/146 [==============================] - 0s 490us/step\n",
      "R2: 0.729\n"
     ]
    }
   ],
   "source": [
    "from sklearn.metrics import r2_score\n",
    "R2= round(r2_score(y_test, model.predict(x_test)),3)\n",
    "print('R2:',R2)"
   ]
  },
  {
   "cell_type": "markdown",
   "id": "aea3c84e-2c42-4b0d-958e-01889c623937",
   "metadata": {},
   "source": [
    "**Model Check**\n",
    "\n",
    "Predict for a taxi ride with the following conditions:\n",
    "- Sunday\n",
    "- Noon\n",
    "- 10 miles"
   ]
  },
  {
   "cell_type": "code",
   "execution_count": 52,
   "id": "9e45f0c5-0214-41f7-8ee9-f8ae4da17ea8",
   "metadata": {
    "execution": {
     "iopub.execute_input": "2025-08-14T23:33:12.473693Z",
     "iopub.status.busy": "2025-08-14T23:33:12.473310Z",
     "iopub.status.idle": "2025-08-14T23:33:12.523236Z",
     "shell.execute_reply": "2025-08-14T23:33:12.522754Z",
     "shell.execute_reply.started": "2025-08-14T23:33:12.473676Z"
    },
    "tags": []
   },
   "outputs": [
    {
     "name": "stdout",
     "output_type": "stream",
     "text": [
      "1/1 [==============================] - 0s 25ms/step\n",
      "Expected price: 34.893\n"
     ]
    }
   ],
   "source": [
    "predicted_price = model.predict([[0, 12, 10]])  \n",
    "print('Expected price:', round(predicted_price[0][0], 3))"
   ]
  }
 ],
 "metadata": {
  "kernelspec": {
   "display_name": "Python 3.8.x",
   "language": "python",
   "name": "python_3.8.x"
  },
  "language_info": {
   "codemirror_mode": {
    "name": "ipython",
    "version": 3
   },
   "file_extension": ".py",
   "mimetype": "text/x-python",
   "name": "python",
   "nbconvert_exporter": "python",
   "pygments_lexer": "ipython3",
   "version": "3.8.4"
  }
 },
 "nbformat": 4,
 "nbformat_minor": 5
}
